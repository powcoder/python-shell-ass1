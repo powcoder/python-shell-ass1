{
 "cells": [
  {
   "cell_type": "code",
   "execution_count": null,
   "metadata": {},
   "outputs": [],
   "source": [
    "# Task 1: Finish the codes in each question (1 point for whole Task 1)\n",
    "#Question 1.1 - Create a ranked list of your five favorite foods (#1 is first, #2 is second, etc.)\n",
    "fav_foods = ###your codes here\n",
    "fav_foods=(pizza,Chickren)"
   ]
  },
  {
   "cell_type": "code",
   "execution_count": null,
   "metadata": {},
   "outputs": [],
   "source": [
    "#Question 1.2 - After dining in Boston, you discover a new #2 food!\n",
    "    #tell us what it is and insert it into the #2 position in 'fav_foods'\n",
    "###your codes here\n",
    "fav_foods=(pizza,Chickren)\n",
    "Print fav_foods"
   ]
  },
  {
   "cell_type": "code",
   "execution_count": null,
   "metadata": {},
   "outputs": [],
   "source": [
    "#Question 1.3 - remove duplicate entries from the list 'repeats' and name it 'no_repeats'\n",
    "repeats = ['Bada','Bing','Bada','Boom']\n",
    "no_repeats = # your codes here\n"
   ]
  },
  {
   "cell_type": "code",
   "execution_count": null,
   "metadata": {},
   "outputs": [],
   "source": [
    "#Question 1.4 - Given lists 'first' and 'second', append the two lists together\n",
    "first = ['Eenie','Meanie']\n",
    "second = ['Mynie','Mo']\n",
    "together = # your codes here"
   ]
  },
  {
   "cell_type": "code",
   "execution_count": null,
   "metadata": {},
   "outputs": [],
   "source": [
    "#Question 1.5 - Create a list containing all the square roots for integers between 1 and 6 (1 line)\n",
    "srrt_list = #your codes here\n",
    "print(srrt_list)"
   ]
  },
  {
   "cell_type": "code",
   "execution_count": null,
   "metadata": {},
   "outputs": [],
   "source": [
    "#Question 1.6 - For the list 'nums_with_zeros', move all of the zeros to the end of the list (2 lines)\n",
    "nums_with_zeros = [2,3,0,0,4,6,7,0,0,0,1,8,10]\n",
    "zeros_at_end = # your codes here\n",
    "#End task 1 code"
   ]
  },
  {
   "cell_type": "code",
   "execution_count": null,
   "metadata": {},
   "outputs": [],
   "source": [
    "#AD599 Assignment 1 task 2-5 shell script\n",
    "\n",
    "'''\n",
    "    Things to cover in this assignment:\n",
    "    -Flow Control (if-else, try-except, assert)\n",
    "    -Conditional Logic\n",
    "    -Text and Strings\n",
    "    -Formatting and printing\n",
    "    -Loops\n",
    "'''\n",
    "\n",
    "'''\n",
    "This script simulates the results of a job entrance exam where applicants\n",
    "complete tests and receive scores.\n",
    "\n",
    "Your task here is to complete the code required to intake the results of the test,\n",
    "report the results and make hiring recommendations based on the test results.\n",
    "'''\n",
    "import random\n",
    "random.seed(123)\n",
    "num_applicants = 100\n",
    "num_questions = 20\n",
    "#results from the 20-question exam\n",
    "results_sheet = []\n",
    "for student in range(num_applicants):\n",
    "    #generate scores for each student and append to results_sheet\n",
    "    scores = random.choices(list(range(0,6)),k=num_questions)\n",
    "    results_sheet.append(scores)\n",
    "    #The result here is a list of lists.\n",
    "\n",
    "#print out the first row of scores just as an example\n",
    "print(results_sheet[0])\n",
    "[0, 0, 2, 0, 5, 0, 3, 1, 5, 0, 2, 2, 1, 0, 2, 0, 3, 0, 1, 2]"
   ]
  },
  {
   "cell_type": "code",
   "execution_count": null,
   "metadata": {},
   "outputs": [],
   "source": [
    "# Task 2: define a function named sum_score and use it to sum the values in results_sheet (1 points)\n",
    "\n",
    "# Codes for the sum_score function\n",
    "def sumscore(a):\n",
    "    #your codes here\n",
    "\n",
    "#CODES TO SUM AND REPORT THE TOTAL RESULTS\n",
    "#'totals' should be a list of length = 'num_applicants' with the totals for each applicant\n",
    "#HINT: you will need a for-loop here\n",
    "\n",
    "totals = []\n",
    "# your codes here"
   ]
  },
  {
   "cell_type": "code",
   "execution_count": null,
   "metadata": {},
   "outputs": [],
   "source": [
    "#Task 3: Use try-except to check for an error with a list data type (1 point)\n",
    "'''\n",
    "    next_applicant contains values that don't make sense to add up\n",
    "    maybe as a result of a typing mistake?\n",
    "'''\n",
    "next_applicant = [0,4,2,3,'O',5,1,2,4,4,2,3,'O',4,5,'O',1,2,3,4]\n",
    "'''\n",
    "    Use the module and function from task 1 above to try and sum the values in\n",
    "    'next_applicant' and show that an error is returned.\n",
    "    HINT: You will need to identify what is wrong with 'next_applicant' in the code.\n",
    "    We can see that there are the letter 'O' in the list instead of number 0,\n",
    "    but you need to help the program recognize that.\n",
    "'''\n",
    "#Your codes here\n",
    "try:\n",
    "    \n",
    "except:\n"
   ]
  },
  {
   "cell_type": "code",
   "execution_count": null,
   "metadata": {},
   "outputs": [],
   "source": [
    "#Task 4: Use if-else and elif to filter lists (2 points)\n",
    "'''\n",
    "    results_sheet has a total of 100 summed values in it now, representing the scores\n",
    "    on a job entrance exam. You now need to do two things:\n",
    "        -Add an index to the list, i.e. the first applicant should be number 1, and so on.\n",
    "        -filter all the applicants into categories\n",
    "            -the categories are represented as lists: 'make_an_offer', 'waitlist', 'no_offer'\n",
    "            -the minimum scores for being included in each\n",
    "                -'make_an_offer':60\n",
    "                -'waitlist': 50\n",
    "                -'no_offer': <50\n",
    "        -each elements in the lists above should have 2 parts:\n",
    "            -applicant number\n",
    "            -total score\n",
    "'''\n",
    "make_an_offer = []\n",
    "waitlist = []\n",
    "no_offer = []\n",
    "#Your codes here"
   ]
  },
  {
   "cell_type": "code",
   "execution_count": null,
   "metadata": {},
   "outputs": [],
   "source": [
    "#Task 5: Use text and strings to report the results of the script (2 points)\n",
    "'''\n",
    "    Now equipped with the scores for all the applicants, you can take the appropriate\n",
    "    actions. For the applicants in 'make_an_offer', we will generate text to put in an\n",
    "    offer letter. For 'waitlist' candidates, we will generate different text, and for\n",
    "    'no_offer' applicants, we will send a third string of text.\n",
    "    The templates are below. You need to complete 2 tasks:\n",
    "        -You need to generate a string for each of the 100 candidates, depending on\n",
    "        which category they are in.\n",
    "        -Use those string to create a list of strings in APPLICANT NUMBER ORDER, i.e.\n",
    "        applicant #1 should be first, #2 second, etc. called 'letter_text'\n",
    "'''\n",
    "offer_text = '''Congratulations {}! Your score of {} on the exam has earned you an offer from our company.'''\n",
    "waitlist_text = '''Hello applicant {}! Your score of {} was good, and we appreciate your desire to work here.'''\n",
    "no_offer_text = '''Hi applicant {}. Unfortunately your score of {} was strong enough with the high quality of applicants.'''\n",
    "\n",
    "letter_text = []\n",
    "#Your codes here"
   ]
  }
 ],
 "metadata": {
  "kernelspec": {
   "display_name": "Python 3 (ipykernel)",
   "language": "python",
   "name": "python3"
  },
  "language_info": {
   "codemirror_mode": {
    "name": "ipython",
    "version": 3
   },
   "file_extension": ".py",
   "mimetype": "text/x-python",
   "name": "python",
   "nbconvert_exporter": "python",
   "pygments_lexer": "ipython3",
   "version": "3.9.12"
  }
 },
 "nbformat": 4,
 "nbformat_minor": 2
}
